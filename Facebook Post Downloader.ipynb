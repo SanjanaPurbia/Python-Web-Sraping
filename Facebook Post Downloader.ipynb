{
 "cells": [
  {
   "cell_type": "markdown",
   "metadata": {},
   "source": [
    "# Web Scraping Facebook with Selenium\n",
    "\n",
    "    DOWNLOAD the image that are uploaded on facebook \n",
    "    \n",
    "    \n",
    "    \n"
   ]
  },
  {
   "cell_type": "code",
   "execution_count": 1,
   "metadata": {},
   "outputs": [],
   "source": [
    "\n",
    "from selenium import webdriver\n",
    "from bs4 import BeautifulSoup\n",
    "from time import sleep\n",
    "import os\n",
    "from getpass import getpass\n",
    "import wget\n"
   ]
  },
  {
   "cell_type": "markdown",
   "metadata": {},
   "source": [
    "\n",
    "\n",
    "#### Main Code"
   ]
  },
  {
   "cell_type": "code",
   "execution_count": 2,
   "metadata": {},
   "outputs": [],
   "source": [
    "# Removing all the alerts from your accounts \n",
    "\n",
    "chrome_options = webdriver.ChromeOptions()\n",
    "prefs = {\"profile.default_content_setting_values.notifications\" : 2}\n",
    "chrome_options.add_experimental_option(\"prefs\",prefs)\n",
    "#driver = webdriver.Chrome(chrome_options=chrome_options)"
   ]
  },
  {
   "cell_type": "code",
   "execution_count": 3,
   "metadata": {},
   "outputs": [
    {
     "name": "stderr",
     "output_type": "stream",
     "text": [
      "C:\\ProgramData\\Anaconda3\\lib\\site-packages\\ipykernel_launcher.py:1: DeprecationWarning: use options instead of chrome_options\n",
      "  \"\"\"Entry point for launching an IPython kernel.\n"
     ]
    },
    {
     "name": "stdout",
     "output_type": "stream",
     "text": [
      "Enter the username:PurbiaSanjana\n",
      "Enter password-->········\n"
     ]
    }
   ],
   "source": [
    "driver=webdriver.Chrome(\"D:\\\\Setup\\\\driver\\\\chromedriver_win32\\\\chromedriver.exe\",chrome_options=chrome_options)\n",
    "driver.get(\"https://www.facebook.com/\")\n",
    "\n",
    "driver.fullscreen_window()\n",
    "username=input(\"Enter the username:\")\n",
    "password=getpass(prompt=\"Enter password-->\",stream=None)\n",
    "sleep(10)\n",
    "\n",
    "driver.find_element_by_xpath('//*[@id=\"email\"]').send_keys(username)\n",
    "driver.find_element_by_xpath('//*[@id=\"pass\"]').send_keys(password)\n",
    "#driver.find_element_by_xpath('//*[@id=\"u_0_d_Yl\"]').click()\n",
    "\n",
    "driver.find_element_by_xpath('/html/body/div[1]/div[2]/div[1]/div/div/div/div[2]/div/div[1]/form/div[2]/button').click()\n",
    "sleep(5)"
   ]
  },
  {
   "cell_type": "code",
   "execution_count": 4,
   "metadata": {},
   "outputs": [
    {
     "data": {
      "text/plain": [
       "['https://scontent.fjdh1-1.fna.fbcdn.net/v/t31.18172-8/26840825_1003806426437225_3528257201325630146_o.jpg?_nc_cat=106&ccb=1-3&_nc_sid=19026a&_nc_ohc=LMruh9afs3wAX_UsN-2&_nc_ht=scontent.fjdh1-1.fna&oh=65bb11f2ddfdcf52dc9527a85f9297d1&oe=60FA92F5',\n",
       " 'https://scontent.fjdh1-2.fna.fbcdn.net/v/t31.18172-8/14889930_749532335197970_6437395247745108897_o.jpg?_nc_cat=105&ccb=1-3&_nc_sid=8bfeb9&_nc_ohc=RCAdmAdvwe4AX8uQ3cu&_nc_ht=scontent.fjdh1-2.fna&oh=024273d4db7c327427b122caee55e4be&oe=60F8FC7E',\n",
       " 'https://scontent.fjdh1-2.fna.fbcdn.net/v/t31.18172-8/14856128_749533928531144_5851966448984245347_o.jpg?_nc_cat=104&ccb=1-3&_nc_sid=8bfeb9&_nc_ohc=jxctsMgS8MYAX9r2PxD&_nc_ht=scontent.fjdh1-2.fna&oh=f73b16d92934391f6792bd94f83f1aee&oe=60F9B4DE',\n",
       " 'https://scontent.fjdh1-2.fna.fbcdn.net/v/t31.18172-8/10713982_388303737984098_6770443384643308675_o.jpg?_nc_cat=108&ccb=1-3&_nc_sid=2c4854&_nc_ohc=SBZDTHkSmj8AX-Bseex&_nc_ht=scontent.fjdh1-2.fna&oh=2a6f0dc3e00299b8169a199301b16ade&oe=60FA1DCF',\n",
       " 'https://scontent.fjdh1-2.fna.fbcdn.net/v/t31.18172-8/10750145_387086001439205_6465145372042866456_o.jpg?_nc_cat=111&ccb=1-3&_nc_sid=2c4854&_nc_ohc=sd2WnSYGGhwAX8TeZQx&_nc_ht=scontent.fjdh1-2.fna&oh=3c9f1155b5390fa3bbf3fa1614abdf6e&oe=60FA2C55',\n",
       " 'https://scontent.fjdh1-1.fna.fbcdn.net/v/t31.18172-8/26840825_1003806426437225_3528257201325630146_o.jpg?_nc_cat=106&ccb=1-3&_nc_sid=19026a&_nc_ohc=LMruh9afs3wAX_UsN-2&_nc_ht=scontent.fjdh1-1.fna&oh=65bb11f2ddfdcf52dc9527a85f9297d1&oe=60FA92F5',\n",
       " 'https://scontent.fjdh1-1.fna.fbcdn.net/v/t1.6435-9/57216605_1334010123416852_8454893381330403328_n.jpg?_nc_cat=109&ccb=1-3&_nc_sid=8bfeb9&_nc_ohc=XgjrNRqa70IAX-vY1OY&_nc_ht=scontent.fjdh1-1.fna&oh=73085ec1a171d37554272c06f9056dea&oe=60F90346',\n",
       " 'https://scontent.fjdh1-1.fna.fbcdn.net/v/t31.18172-8/26840825_1003806426437225_3528257201325630146_o.jpg?_nc_cat=106&ccb=1-3&_nc_sid=19026a&_nc_ohc=LMruh9afs3wAX_UsN-2&_nc_ht=scontent.fjdh1-1.fna&oh=65bb11f2ddfdcf52dc9527a85f9297d1&oe=60FA92F5',\n",
       " 'https://scontent.fjdh1-1.fna.fbcdn.net/v/t31.18172-8/18671543_870764709741398_2810256040551086112_o.jpg?_nc_cat=103&ccb=1-3&_nc_sid=8bfeb9&_nc_ohc=XvErv8FdKf4AX_5Idad&_nc_ht=scontent.fjdh1-1.fna&oh=b827cae74c30bcf728fda8f463eb263b&oe=60FAD863',\n",
       " 'https://scontent.fjdh1-2.fna.fbcdn.net/v/t31.18172-8/17758334_841146179369918_1272536941039888254_o.jpg?_nc_cat=105&ccb=1-3&_nc_sid=8bfeb9&_nc_ohc=8VdaWy-_aeQAX_QENfV&_nc_ht=scontent.fjdh1-2.fna&oh=b32844164be6bb8bd95f9baad521952a&oe=60FAD68D',\n",
       " 'https://scontent.fjdh1-1.fna.fbcdn.net/v/t31.18172-8/17434509_841146176036585_2445941467707414578_o.jpg?_nc_cat=107&ccb=1-3&_nc_sid=8bfeb9&_nc_ohc=cv4vAmsyMC4AX9gJvxO&_nc_ht=scontent.fjdh1-1.fna&oh=d7c783df2231b309cac956001ae1e529&oe=60FA0B63',\n",
       " 'https://scontent.fjdh1-1.fna.fbcdn.net/v/t31.18172-8/17546668_841146172703252_6349139094570458835_o.jpg?_nc_cat=109&ccb=1-3&_nc_sid=8bfeb9&_nc_ohc=LzUigOZOrEkAX8_083N&_nc_ht=scontent.fjdh1-1.fna&oh=55574a95c86da579866805965eec20ed&oe=60FA181E',\n",
       " 'https://scontent.fjdh1-1.fna.fbcdn.net/v/t1.18169-9/15780853_786702448147625_6682402201679638995_n.jpg?_nc_cat=101&ccb=1-3&_nc_sid=8bfeb9&_nc_ohc=5BJ777LcF9cAX8VyTWJ&_nc_ht=scontent.fjdh1-1.fna&oh=9585d4fe89146f124e82ef4eb835adbd&oe=60FA3BB9',\n",
       " 'https://scontent.fjdh1-1.fna.fbcdn.net/v/t1.18169-9/15697937_784013631749840_3865020059442428476_n.jpg?_nc_cat=107&ccb=1-3&_nc_sid=8bfeb9&_nc_ohc=0ywTjnTM3nsAX_GZlC2&_nc_ht=scontent.fjdh1-1.fna&oh=26355f96fa8e3e96416f8c5461f06edd&oe=60F95BEA',\n",
       " 'https://scontent.fjdh1-1.fna.fbcdn.net/v/t1.18169-9/15492128_776868805797656_7414659074594686998_n.jpg?_nc_cat=100&ccb=1-3&_nc_sid=19026a&_nc_ohc=1SPvNxNMtxYAX_jOcP0&_nc_ht=scontent.fjdh1-1.fna&oh=206b86e588808984f32d51ff1ae2a926&oe=60F9A5A4',\n",
       " 'https://scontent.fjdh1-2.fna.fbcdn.net/v/t31.18172-8/14856128_749533928531144_5851966448984245347_o.jpg?_nc_cat=104&ccb=1-3&_nc_sid=8bfeb9&_nc_ohc=jxctsMgS8MYAX9r2PxD&_nc_ht=scontent.fjdh1-2.fna&oh=f73b16d92934391f6792bd94f83f1aee&oe=60F9B4DE',\n",
       " 'https://scontent.fjdh1-2.fna.fbcdn.net/v/t31.18172-8/14889930_749532335197970_6437395247745108897_o.jpg?_nc_cat=105&ccb=1-3&_nc_sid=8bfeb9&_nc_ohc=RCAdmAdvwe4AX8uQ3cu&_nc_ht=scontent.fjdh1-2.fna&oh=024273d4db7c327427b122caee55e4be&oe=60F8FC7E',\n",
       " 'https://scontent.fjdh1-2.fna.fbcdn.net/v/t1.18169-9/10384738_351869321630942_5745726753805099768_n.jpg?_nc_cat=105&ccb=1-3&_nc_sid=09cbfe&_nc_ohc=U1KjhmcP0TYAX-zRk9k&_nc_ht=scontent.fjdh1-2.fna&oh=dbf60dbe5f6c984281b6bcbb55d37fc6&oe=60F9AC12',\n",
       " 'https://scontent.fjdh1-1.fna.fbcdn.net/v/t31.18172-8/10517357_343928865758321_8473503326203843059_o.jpg?_nc_cat=100&ccb=1-3&_nc_sid=174925&_nc_ohc=u8NMJ0gLatIAX953gHC&_nc_ht=scontent.fjdh1-1.fna&oh=a87149db78fe6af8e8bd03febc148522&oe=60F9368A']"
      ]
     },
     "execution_count": 4,
     "metadata": {},
     "output_type": "execute_result"
    }
   ],
   "source": [
    "#extracting all the images in a list form \n",
    "\n",
    "\n",
    "\n",
    "images=[]\n",
    "for pic in [\"photos_of\",\"photos_by\"]:\n",
    "    driver.get(\"https://www.facebook.com/\"+username+\"/\" + pic + \"/\")\n",
    "    sleep(10)\n",
    "    \n",
    "    #for scrolling the page\n",
    "    n_scroll=2\n",
    "    for scroll in range(1,n_scroll):\n",
    "        driver.execute_script(\"window.scrollTo(0, document.body.scrollHeight);\")\n",
    "        sleep(10)\n",
    "        image_tag = driver.find_elements_by_tag_name('a')\n",
    "        image_tag= [a.get_attribute('href') for a in image_tag]\n",
    "        #narrow down all links to image links only\n",
    "        image_tag= [a for a in image_tag if str(a).startswith(\"https://www.facebook.com/photo\")]\n",
    "    \n",
    "        #print('Found ' + str(len(image_tag)) + ' links to images')\n",
    "        #print(image_tag,sep=\",\")\n",
    "        \n",
    "       #appending the te \n",
    "        for a in image_tag:\n",
    "            driver.get(a)\n",
    "            sleep(5)\n",
    "            img = driver.find_elements_by_tag_name(\"img\")\n",
    "            images.append(img[0].get_attribute(\"src\"))\n",
    "            #for items in img:\n",
    "                #print(items.get_attribute(\"src\"))\n",
    "                \n",
    "\n",
    "images"
   ]
  },
  {
   "cell_type": "code",
   "execution_count": 5,
   "metadata": {},
   "outputs": [],
   "source": [
    "#making the directory \n",
    "path = os.getcwd()\n",
    "path = os.path.join(path, \"FB_SCRAPED\")\n",
    "\n",
    "#create the directory\n",
    "os.mkdir(path)"
   ]
  },
  {
   "cell_type": "code",
   "execution_count": 6,
   "metadata": {},
   "outputs": [
    {
     "name": "stdout",
     "output_type": "stream",
     "text": [
      "100% [............................................................................] 435903 / 435903"
     ]
    }
   ],
   "source": [
    "#downloading all the images\n",
    "counter = 0\n",
    "for image in images:\n",
    "    save_as = os.path.join(path, str(counter) + '.jpg')\n",
    "    wget.download(image, save_as)\n",
    "    counter += 1"
   ]
  },
  {
   "cell_type": "code",
   "execution_count": null,
   "metadata": {},
   "outputs": [],
   "source": []
  }
 ],
 "metadata": {
  "kernelspec": {
   "display_name": "Python 3",
   "language": "python",
   "name": "python3"
  },
  "language_info": {
   "codemirror_mode": {
    "name": "ipython",
    "version": 3
   },
   "file_extension": ".py",
   "mimetype": "text/x-python",
   "name": "python",
   "nbconvert_exporter": "python",
   "pygments_lexer": "ipython3",
   "version": "3.7.6"
  }
 },
 "nbformat": 4,
 "nbformat_minor": 4
}
