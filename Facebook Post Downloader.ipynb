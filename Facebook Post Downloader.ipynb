{
 "cells": [
  {
   "cell_type": "markdown",
   "metadata": {},
   "source": [
    "# Web Scraping Facebook with Selenium\n",
    "\n",
    "    DOWNLOAD the image that are uploaded on facebook \n",
    "    \n",
    "    \n",
    "    \n"
   ]
  },
  {
   "cell_type": "code",
   "execution_count": null,
   "metadata": {},
   "outputs": [],
   "source": [
    "\n",
    "from selenium import webdriver\n",
    "from bs4 import BeautifulSoup\n",
    "from time import sleep\n",
    "import os\n",
    "from getpass import getpass\n",
    "import wget\n"
   ]
  },
  {
   "cell_type": "markdown",
   "metadata": {},
   "source": [
    "### removing all the alerts from your accounts "
   ]
  },
  {
   "cell_type": "code",
   "execution_count": null,
   "metadata": {},
   "outputs": [],
   "source": [
    "chrome_options = webdriver.ChromeOptions()\n",
    "prefs = {\"profile.default_content_setting_values.notifications\" : 2}\n",
    "chrome_options.add_experimental_option(\"prefs\",prefs)\n",
    "#driver = webdriver.Chrome(chrome_options=chrome_options)"
   ]
  },
  {
   "cell_type": "code",
   "execution_count": null,
   "metadata": {},
   "outputs": [],
   "source": [
    "driver=webdriver.Chrome(\"D:\\\\Setup\\\\driver\\\\chromedriver_win32\\\\chromedriver.exe\",chrome_options=chrome_options)\n",
    "driver.get(\"https://www.facebook.com/\")\n",
    "\n",
    "driver.fullscreen_window()\n",
    "username=input(\"Enter the username:\")\n",
    "password=getpass(prompt=\"Enter password-->\",stream=None)\n",
    "sleep(10)\n",
    "\n",
    "driver.find_element_by_xpath('//*[@id=\"email\"]').send_keys(username)\n",
    "driver.find_element_by_xpath('//*[@id=\"pass\"]').send_keys(password)\n",
    "#driver.find_element_by_xpath('//*[@id=\"u_0_d_Yl\"]').click()\n",
    "\n",
    "driver.find_element_by_xpath('/html/body/div[1]/div[2]/div[1]/div/div/div/div[2]/div/div[1]/form/div[2]/button').click()\n",
    "sleep(5)"
   ]
  },
  {
   "cell_type": "code",
   "execution_count": null,
   "metadata": {},
   "outputs": [],
   "source": [
    "#extracting all the images in a list form \n",
    "images=[]\n",
    "for pic in [\"photos_of\",\"photos_all\"]:\n",
    "    driver.get(\"https://www.facebook.com/\"+username+\"/\" + pic + \"/\")\n",
    "    sleep(10)\n",
    "    \n",
    "    \n",
    "    n_scroll=2\n",
    "    for scroll in range(1,n_scroll):\n",
    "        driver.execute_script(\"window.scrollTo(0, document.body.scrollHeight);\")\n",
    "        sleep(10)\n",
    "        image_tag = driver.find_elements_by_tag_name('a')\n",
    "        image_tag= [a.get_attribute('href') for a in image_tag]\n",
    "        #narrow down all links to image links only\n",
    "        image_tag= [a for a in image_tag if str(a).startswith(\"https://www.facebook.com/photo\")]\n",
    "    \n",
    "        #print('Found ' + str(len(image_tag)) + ' links to images')\n",
    "        #print(image_tag,sep=\",\")\n",
    "        \n",
    "        \n",
    "        for a in image_tag:\n",
    "            driver.get(a)\n",
    "            sleep(5)\n",
    "            img = driver.find_elements_by_tag_name(\"img\")\n",
    "            images.append(img[0].get_attribute(\"src\"))\n",
    "            #for items in img:\n",
    "                #print(items.get_attribute(\"src\"))\n",
    "                \n",
    "\n",
    "images"
   ]
  },
  {
   "cell_type": "code",
   "execution_count": null,
   "metadata": {},
   "outputs": [],
   "source": [
    "#making the directory \n",
    "path = os.getcwd()\n",
    "path = os.path.join(path, \"FB_SCRAPED\")\n",
    "\n",
    "#create the directory\n",
    "os.mkdir(path)"
   ]
  },
  {
   "cell_type": "code",
   "execution_count": null,
   "metadata": {},
   "outputs": [],
   "source": [
    "#downloading all the images\n",
    "counter = 0\n",
    "for image in images:\n",
    "    save_as = os.path.join(path, str(counter) + '.jpg')\n",
    "    wget.download(image, save_as)\n",
    "    counter += 1"
   ]
  },
  {
   "cell_type": "code",
   "execution_count": null,
   "metadata": {},
   "outputs": [],
   "source": []
  }
 ],
 "metadata": {
  "kernelspec": {
   "display_name": "Python 3",
   "language": "python",
   "name": "python3"
  },
  "language_info": {
   "codemirror_mode": {
    "name": "ipython",
    "version": 3
   },
   "file_extension": ".py",
   "mimetype": "text/x-python",
   "name": "python",
   "nbconvert_exporter": "python",
   "pygments_lexer": "ipython3",
   "version": "3.7.6"
  }
 },
 "nbformat": 4,
 "nbformat_minor": 4
}
